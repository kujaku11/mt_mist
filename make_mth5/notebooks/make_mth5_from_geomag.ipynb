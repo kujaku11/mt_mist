{
 "cells": [
  {
   "cell_type": "markdown",
   "id": "5d0eeafb-5047-44bb-bda1-0acb9e91329d",
   "metadata": {},
   "source": [
    "# Build MTH5 from USGS Geomagnetic data\n",
    "\n",
    "Its common to look at observatory data for geomagnetic storms or to use as a remote reference.  The USGS provides geomagnetic observatory data for observatories in North America.  In the future this will be expanded to the various other observatories using well developed packages like [geomagpy](https://pypi.org/project/geomagpy/). \n",
    "\n",
    "You will need to know ahead of time what observatories you would like to download data from, dates, and type of data.  There are no wildcards.  See [USGS Geomagnetic webservices](https://www.usgs.gov/tools/web-service-geomagnetism-data) for more information on allowed options.\n",
    "\n",
    "Here we will download 2 days of data from 2 different observatories for the x and y components of calibrated data ('adjusted')."
   ]
  },
  {
   "cell_type": "code",
   "execution_count": 1,
   "id": "900acc26-2155-4b3b-9468-2b0877c76b43",
   "metadata": {},
   "outputs": [
    {
     "name": "stderr",
     "output_type": "stream",
     "text": [
      "2023-03-23 15:44:33,968 [line 135] mth5.setup_logger - INFO: Logging file can be found C:\\Users\\jpeacock\\OneDrive - DOI\\Documents\\GitHub\\mth5\\logs\\mth5_debug.log\n"
     ]
    }
   ],
   "source": [
    "import pandas as pd\n",
    "\n",
    "from mth5.clients import MakeMTH5"
   ]
  },
  {
   "cell_type": "markdown",
   "id": "4e3d46ba-9671-4730-8a5f-e25d023e3795",
   "metadata": {},
   "source": [
    "\n",
    "\n",
    "## Create a request DataFrame\n",
    "\n",
    "The request input is in the form of a `pandas.DataFrame` with the following columns\n",
    "\n",
    "| Column | Description | Options |\n",
    "|--------|-------------|---------|\n",
    "| observatory | Observatory code | BDT, BOU, TST, BRW, BRT, BSL, CMO, CMT, DED, DHT, FRD, FRN, GUA, HON, NEW, SHU, SIT, SJG, TUC,  USGS, BLC, BRD, CBB, EUA, FCC, IQA, MEA, OTT, RES, SNK, STJ, VIC, YKC, HAD, HER, KAK|\n",
    "| type | The type of data to download | variation, adjusted, quasi-definitive, definitivevariation, adjusted (*default*), quasi-definitive, definitive |\n",
    "| elements | Components or elements of the geomagnetic data to download, should be a list| D, DIST, DST, E, E-E, E-N, F, G, H, SQ, SV, UK1, UK2, UK3, UK4, X, Y, ZD, DIST, DST, E, E-E, E-N, F, G, H, SQ, SV, UK1, UK2, UK3, UK4, X, Y, Z |\n",
    "| sampling_period | Sampling period of data to download in seconds | 1, 60, 3600 |\n",
    "| start | Start time (YYYY-MM-DDThh:mm:ss)  in UTC time| |\n",
    "| end | End time (YYYY-MM-DDThh:mm:ss) in UTC time||"
   ]
  },
  {
   "cell_type": "code",
   "execution_count": 2,
   "id": "f2f4829b-e7ae-4e60-9bf4-98fbe20499d4",
   "metadata": {},
   "outputs": [],
   "source": [
    "request_df = pd.DataFrame(\n",
    "    {\n",
    "        \"observatory\": [\"frn\", \"frn\", \"ott\", \"ott\"],\n",
    "        \"type\": [\"adjusted\"] * 4,\n",
    "        \"elements\": [[\"x\", \"y\"]] * 4,\n",
    "        \"sampling_period\": [1] * 4,\n",
    "        \"start\": [\n",
    "            \"2022-01-01T00:00:00\",\n",
    "            \"2022-01-03T00:00:00\",\n",
    "            \"2022-01-01T00:00:00\",\n",
    "            \"2022-01-03T00:00:00\",\n",
    "        ],\n",
    "        \"end\": [\n",
    "            \"2022-01-02T00:00:00\",\n",
    "            \"2022-01-04T00:00:00\",\n",
    "            \"2022-01-02T00:00:00\",\n",
    "            \"2022-01-04T00:00:00\",\n",
    "        ],\n",
    "    }\n",
    ")"
   ]
  },
  {
   "cell_type": "code",
   "execution_count": 3,
   "id": "5aeb84bc-db48-47dd-9a82-50b137f942db",
   "metadata": {},
   "outputs": [
    {
     "data": {
      "text/html": [
       "<div>\n",
       "<style scoped>\n",
       "    .dataframe tbody tr th:only-of-type {\n",
       "        vertical-align: middle;\n",
       "    }\n",
       "\n",
       "    .dataframe tbody tr th {\n",
       "        vertical-align: top;\n",
       "    }\n",
       "\n",
       "    .dataframe thead th {\n",
       "        text-align: right;\n",
       "    }\n",
       "</style>\n",
       "<table border=\"1\" class=\"dataframe\">\n",
       "  <thead>\n",
       "    <tr style=\"text-align: right;\">\n",
       "      <th></th>\n",
       "      <th>observatory</th>\n",
       "      <th>type</th>\n",
       "      <th>elements</th>\n",
       "      <th>sampling_period</th>\n",
       "      <th>start</th>\n",
       "      <th>end</th>\n",
       "    </tr>\n",
       "  </thead>\n",
       "  <tbody>\n",
       "    <tr>\n",
       "      <th>0</th>\n",
       "      <td>frn</td>\n",
       "      <td>adjusted</td>\n",
       "      <td>[x, y]</td>\n",
       "      <td>1</td>\n",
       "      <td>2022-01-01T00:00:00</td>\n",
       "      <td>2022-01-02T00:00:00</td>\n",
       "    </tr>\n",
       "    <tr>\n",
       "      <th>1</th>\n",
       "      <td>frn</td>\n",
       "      <td>adjusted</td>\n",
       "      <td>[x, y]</td>\n",
       "      <td>1</td>\n",
       "      <td>2022-01-03T00:00:00</td>\n",
       "      <td>2022-01-04T00:00:00</td>\n",
       "    </tr>\n",
       "    <tr>\n",
       "      <th>2</th>\n",
       "      <td>ott</td>\n",
       "      <td>adjusted</td>\n",
       "      <td>[x, y]</td>\n",
       "      <td>1</td>\n",
       "      <td>2022-01-01T00:00:00</td>\n",
       "      <td>2022-01-02T00:00:00</td>\n",
       "    </tr>\n",
       "    <tr>\n",
       "      <th>3</th>\n",
       "      <td>ott</td>\n",
       "      <td>adjusted</td>\n",
       "      <td>[x, y]</td>\n",
       "      <td>1</td>\n",
       "      <td>2022-01-03T00:00:00</td>\n",
       "      <td>2022-01-04T00:00:00</td>\n",
       "    </tr>\n",
       "  </tbody>\n",
       "</table>\n",
       "</div>"
      ],
      "text/plain": [
       "  observatory      type elements  sampling_period                start  \\\n",
       "0         frn  adjusted   [x, y]                1  2022-01-01T00:00:00   \n",
       "1         frn  adjusted   [x, y]                1  2022-01-03T00:00:00   \n",
       "2         ott  adjusted   [x, y]                1  2022-01-01T00:00:00   \n",
       "3         ott  adjusted   [x, y]                1  2022-01-03T00:00:00   \n",
       "\n",
       "                   end  \n",
       "0  2022-01-02T00:00:00  \n",
       "1  2022-01-04T00:00:00  \n",
       "2  2022-01-02T00:00:00  \n",
       "3  2022-01-04T00:00:00  "
      ]
     },
     "execution_count": 3,
     "metadata": {},
     "output_type": "execute_result"
    }
   ],
   "source": [
    "request_df"
   ]
  },
  {
   "cell_type": "markdown",
   "id": "88cae780-8999-4632-88c1-c02d63eae7c8",
   "metadata": {},
   "source": [
    "### Adding Run ID\n",
    "\n",
    "When the request is input automatically run names will be assigned to different windows of time by `f\"sp{sampling_period}_{count:03}\"`. So the first run is `sp1_001`, alternatively you can add a run column and name them as you like.  "
   ]
  },
  {
   "cell_type": "markdown",
   "id": "d9118cc1-87ab-4a34-99e2-93282364ea96",
   "metadata": {},
   "source": [
    "## Create MTH5\n",
    "\n",
    "Once the request is complete get the data. The file name will be created automatically as `usgs_geomag_{list of observatories}_{list of elements}.h5`"
   ]
  },
  {
   "cell_type": "code",
   "execution_count": 4,
   "id": "7c2ca6b6-136a-435f-9714-2b52238742b9",
   "metadata": {},
   "outputs": [
    {
     "name": "stderr",
     "output_type": "stream",
     "text": [
      "2023-03-23 15:44:34,903 [line 674] mth5.mth5.MTH5._initialize_file - INFO: Initialized MTH5 0.2.0 file C:\\Users\\jpeacock\\OneDrive - DOI\\Documents\\GitHub\\mth5\\docs\\examples\\notebooks\\usgs_geomag_frn_ott_xy.h5 in mode a\n",
      "2023-03-23 15:44:43,406 [line 311] mth5.groups.base.MasterStation.add_station - INFO: Station Fresno already exists, returning existing group.\n",
      "2023-03-23 15:44:48,843 [line 311] mth5.groups.base.MasterStation.add_station - INFO: Station Ottowa already exists, returning existing group.\n"
     ]
    }
   ],
   "source": [
    "make_mth5_object = MakeMTH5(mth5_version=\"0.2.0\", interact=True)\n",
    "mth5_object = make_mth5_object.from_usgs_geomag(request_df)"
   ]
  },
  {
   "cell_type": "markdown",
   "id": "04f6bdef-c503-4406-849d-cf7804fb71c2",
   "metadata": {},
   "source": [
    "### Check to make sure everything was downloaded properly"
   ]
  },
  {
   "cell_type": "code",
   "execution_count": 8,
   "id": "14b6b830-dd04-4313-abed-f12dbb0a5dee",
   "metadata": {},
   "outputs": [
    {
     "data": {
      "text/html": [
       "<div>\n",
       "<style scoped>\n",
       "    .dataframe tbody tr th:only-of-type {\n",
       "        vertical-align: middle;\n",
       "    }\n",
       "\n",
       "    .dataframe tbody tr th {\n",
       "        vertical-align: top;\n",
       "    }\n",
       "\n",
       "    .dataframe thead th {\n",
       "        text-align: right;\n",
       "    }\n",
       "</style>\n",
       "<table border=\"1\" class=\"dataframe\">\n",
       "  <thead>\n",
       "    <tr style=\"text-align: right;\">\n",
       "      <th></th>\n",
       "      <th>survey</th>\n",
       "      <th>station</th>\n",
       "      <th>run</th>\n",
       "      <th>latitude</th>\n",
       "      <th>longitude</th>\n",
       "      <th>elevation</th>\n",
       "      <th>component</th>\n",
       "      <th>start</th>\n",
       "      <th>end</th>\n",
       "      <th>n_samples</th>\n",
       "      <th>sample_rate</th>\n",
       "      <th>measurement_type</th>\n",
       "      <th>azimuth</th>\n",
       "      <th>tilt</th>\n",
       "      <th>units</th>\n",
       "      <th>hdf5_reference</th>\n",
       "      <th>run_hdf5_reference</th>\n",
       "      <th>station_hdf5_reference</th>\n",
       "    </tr>\n",
       "  </thead>\n",
       "  <tbody>\n",
       "    <tr>\n",
       "      <th>0</th>\n",
       "      <td>USGS-GEOMAG</td>\n",
       "      <td>Fresno</td>\n",
       "      <td>sp1_001</td>\n",
       "      <td>37.091</td>\n",
       "      <td>-119.718</td>\n",
       "      <td>331.0</td>\n",
       "      <td>hx</td>\n",
       "      <td>2022-01-01 00:00:00+00:00</td>\n",
       "      <td>2022-01-02 00:00:00+00:00</td>\n",
       "      <td>86401</td>\n",
       "      <td>1.0</td>\n",
       "      <td>magnetic</td>\n",
       "      <td>0.0</td>\n",
       "      <td>0.0</td>\n",
       "      <td>nanotesla</td>\n",
       "      <td>&lt;HDF5 object reference&gt;</td>\n",
       "      <td>&lt;HDF5 object reference&gt;</td>\n",
       "      <td>&lt;HDF5 object reference&gt;</td>\n",
       "    </tr>\n",
       "    <tr>\n",
       "      <th>1</th>\n",
       "      <td>USGS-GEOMAG</td>\n",
       "      <td>Fresno</td>\n",
       "      <td>sp1_001</td>\n",
       "      <td>37.091</td>\n",
       "      <td>-119.718</td>\n",
       "      <td>331.0</td>\n",
       "      <td>hy</td>\n",
       "      <td>2022-01-01 00:00:00+00:00</td>\n",
       "      <td>2022-01-02 00:00:00+00:00</td>\n",
       "      <td>86401</td>\n",
       "      <td>1.0</td>\n",
       "      <td>magnetic</td>\n",
       "      <td>90.0</td>\n",
       "      <td>0.0</td>\n",
       "      <td>nanotesla</td>\n",
       "      <td>&lt;HDF5 object reference&gt;</td>\n",
       "      <td>&lt;HDF5 object reference&gt;</td>\n",
       "      <td>&lt;HDF5 object reference&gt;</td>\n",
       "    </tr>\n",
       "    <tr>\n",
       "      <th>2</th>\n",
       "      <td>USGS-GEOMAG</td>\n",
       "      <td>Fresno</td>\n",
       "      <td>sp1_002</td>\n",
       "      <td>37.091</td>\n",
       "      <td>-119.718</td>\n",
       "      <td>331.0</td>\n",
       "      <td>hx</td>\n",
       "      <td>2022-01-03 00:00:00+00:00</td>\n",
       "      <td>2022-01-04 00:00:00+00:00</td>\n",
       "      <td>86401</td>\n",
       "      <td>1.0</td>\n",
       "      <td>magnetic</td>\n",
       "      <td>0.0</td>\n",
       "      <td>0.0</td>\n",
       "      <td>nanotesla</td>\n",
       "      <td>&lt;HDF5 object reference&gt;</td>\n",
       "      <td>&lt;HDF5 object reference&gt;</td>\n",
       "      <td>&lt;HDF5 object reference&gt;</td>\n",
       "    </tr>\n",
       "    <tr>\n",
       "      <th>3</th>\n",
       "      <td>USGS-GEOMAG</td>\n",
       "      <td>Fresno</td>\n",
       "      <td>sp1_002</td>\n",
       "      <td>37.091</td>\n",
       "      <td>-119.718</td>\n",
       "      <td>331.0</td>\n",
       "      <td>hy</td>\n",
       "      <td>2022-01-03 00:00:00+00:00</td>\n",
       "      <td>2022-01-04 00:00:00+00:00</td>\n",
       "      <td>86401</td>\n",
       "      <td>1.0</td>\n",
       "      <td>magnetic</td>\n",
       "      <td>90.0</td>\n",
       "      <td>0.0</td>\n",
       "      <td>nanotesla</td>\n",
       "      <td>&lt;HDF5 object reference&gt;</td>\n",
       "      <td>&lt;HDF5 object reference&gt;</td>\n",
       "      <td>&lt;HDF5 object reference&gt;</td>\n",
       "    </tr>\n",
       "    <tr>\n",
       "      <th>4</th>\n",
       "      <td>USGS-GEOMAG</td>\n",
       "      <td>Ottowa</td>\n",
       "      <td>sp1_001</td>\n",
       "      <td>45.400</td>\n",
       "      <td>-75.500</td>\n",
       "      <td>0.0</td>\n",
       "      <td>hx</td>\n",
       "      <td>2022-01-01 00:00:00+00:00</td>\n",
       "      <td>2022-01-02 00:00:00+00:00</td>\n",
       "      <td>86401</td>\n",
       "      <td>1.0</td>\n",
       "      <td>magnetic</td>\n",
       "      <td>0.0</td>\n",
       "      <td>0.0</td>\n",
       "      <td>nanotesla</td>\n",
       "      <td>&lt;HDF5 object reference&gt;</td>\n",
       "      <td>&lt;HDF5 object reference&gt;</td>\n",
       "      <td>&lt;HDF5 object reference&gt;</td>\n",
       "    </tr>\n",
       "    <tr>\n",
       "      <th>5</th>\n",
       "      <td>USGS-GEOMAG</td>\n",
       "      <td>Ottowa</td>\n",
       "      <td>sp1_001</td>\n",
       "      <td>45.400</td>\n",
       "      <td>-75.500</td>\n",
       "      <td>0.0</td>\n",
       "      <td>hy</td>\n",
       "      <td>2022-01-01 00:00:00+00:00</td>\n",
       "      <td>2022-01-02 00:00:00+00:00</td>\n",
       "      <td>86401</td>\n",
       "      <td>1.0</td>\n",
       "      <td>magnetic</td>\n",
       "      <td>90.0</td>\n",
       "      <td>0.0</td>\n",
       "      <td>nanotesla</td>\n",
       "      <td>&lt;HDF5 object reference&gt;</td>\n",
       "      <td>&lt;HDF5 object reference&gt;</td>\n",
       "      <td>&lt;HDF5 object reference&gt;</td>\n",
       "    </tr>\n",
       "    <tr>\n",
       "      <th>6</th>\n",
       "      <td>USGS-GEOMAG</td>\n",
       "      <td>Ottowa</td>\n",
       "      <td>sp1_002</td>\n",
       "      <td>45.400</td>\n",
       "      <td>-75.500</td>\n",
       "      <td>0.0</td>\n",
       "      <td>hx</td>\n",
       "      <td>2022-01-03 00:00:00+00:00</td>\n",
       "      <td>2022-01-04 00:00:00+00:00</td>\n",
       "      <td>86401</td>\n",
       "      <td>1.0</td>\n",
       "      <td>magnetic</td>\n",
       "      <td>0.0</td>\n",
       "      <td>0.0</td>\n",
       "      <td>nanotesla</td>\n",
       "      <td>&lt;HDF5 object reference&gt;</td>\n",
       "      <td>&lt;HDF5 object reference&gt;</td>\n",
       "      <td>&lt;HDF5 object reference&gt;</td>\n",
       "    </tr>\n",
       "    <tr>\n",
       "      <th>7</th>\n",
       "      <td>USGS-GEOMAG</td>\n",
       "      <td>Ottowa</td>\n",
       "      <td>sp1_002</td>\n",
       "      <td>45.400</td>\n",
       "      <td>-75.500</td>\n",
       "      <td>0.0</td>\n",
       "      <td>hy</td>\n",
       "      <td>2022-01-03 00:00:00+00:00</td>\n",
       "      <td>2022-01-04 00:00:00+00:00</td>\n",
       "      <td>86401</td>\n",
       "      <td>1.0</td>\n",
       "      <td>magnetic</td>\n",
       "      <td>90.0</td>\n",
       "      <td>0.0</td>\n",
       "      <td>nanotesla</td>\n",
       "      <td>&lt;HDF5 object reference&gt;</td>\n",
       "      <td>&lt;HDF5 object reference&gt;</td>\n",
       "      <td>&lt;HDF5 object reference&gt;</td>\n",
       "    </tr>\n",
       "  </tbody>\n",
       "</table>\n",
       "</div>"
      ],
      "text/plain": [
       "        survey station      run  latitude  longitude  elevation component  \\\n",
       "0  USGS-GEOMAG  Fresno  sp1_001    37.091   -119.718      331.0        hx   \n",
       "1  USGS-GEOMAG  Fresno  sp1_001    37.091   -119.718      331.0        hy   \n",
       "2  USGS-GEOMAG  Fresno  sp1_002    37.091   -119.718      331.0        hx   \n",
       "3  USGS-GEOMAG  Fresno  sp1_002    37.091   -119.718      331.0        hy   \n",
       "4  USGS-GEOMAG  Ottowa  sp1_001    45.400    -75.500        0.0        hx   \n",
       "5  USGS-GEOMAG  Ottowa  sp1_001    45.400    -75.500        0.0        hy   \n",
       "6  USGS-GEOMAG  Ottowa  sp1_002    45.400    -75.500        0.0        hx   \n",
       "7  USGS-GEOMAG  Ottowa  sp1_002    45.400    -75.500        0.0        hy   \n",
       "\n",
       "                      start                       end  n_samples  sample_rate  \\\n",
       "0 2022-01-01 00:00:00+00:00 2022-01-02 00:00:00+00:00      86401          1.0   \n",
       "1 2022-01-01 00:00:00+00:00 2022-01-02 00:00:00+00:00      86401          1.0   \n",
       "2 2022-01-03 00:00:00+00:00 2022-01-04 00:00:00+00:00      86401          1.0   \n",
       "3 2022-01-03 00:00:00+00:00 2022-01-04 00:00:00+00:00      86401          1.0   \n",
       "4 2022-01-01 00:00:00+00:00 2022-01-02 00:00:00+00:00      86401          1.0   \n",
       "5 2022-01-01 00:00:00+00:00 2022-01-02 00:00:00+00:00      86401          1.0   \n",
       "6 2022-01-03 00:00:00+00:00 2022-01-04 00:00:00+00:00      86401          1.0   \n",
       "7 2022-01-03 00:00:00+00:00 2022-01-04 00:00:00+00:00      86401          1.0   \n",
       "\n",
       "  measurement_type  azimuth  tilt      units           hdf5_reference  \\\n",
       "0         magnetic      0.0   0.0  nanotesla  <HDF5 object reference>   \n",
       "1         magnetic     90.0   0.0  nanotesla  <HDF5 object reference>   \n",
       "2         magnetic      0.0   0.0  nanotesla  <HDF5 object reference>   \n",
       "3         magnetic     90.0   0.0  nanotesla  <HDF5 object reference>   \n",
       "4         magnetic      0.0   0.0  nanotesla  <HDF5 object reference>   \n",
       "5         magnetic     90.0   0.0  nanotesla  <HDF5 object reference>   \n",
       "6         magnetic      0.0   0.0  nanotesla  <HDF5 object reference>   \n",
       "7         magnetic     90.0   0.0  nanotesla  <HDF5 object reference>   \n",
       "\n",
       "        run_hdf5_reference   station_hdf5_reference  \n",
       "0  <HDF5 object reference>  <HDF5 object reference>  \n",
       "1  <HDF5 object reference>  <HDF5 object reference>  \n",
       "2  <HDF5 object reference>  <HDF5 object reference>  \n",
       "3  <HDF5 object reference>  <HDF5 object reference>  \n",
       "4  <HDF5 object reference>  <HDF5 object reference>  \n",
       "5  <HDF5 object reference>  <HDF5 object reference>  \n",
       "6  <HDF5 object reference>  <HDF5 object reference>  \n",
       "7  <HDF5 object reference>  <HDF5 object reference>  "
      ]
     },
     "execution_count": 8,
     "metadata": {},
     "output_type": "execute_result"
    }
   ],
   "source": [
    "mth5_object.channel_summary.summarize()\n",
    "mth5_object.channel_summary.to_dataframe()"
   ]
  },
  {
   "cell_type": "markdown",
   "id": "5f9b1794-adf3-4a7a-b4fd-ca7fb85e414f",
   "metadata": {},
   "source": [
    "### Have a look at a run"
   ]
  },
  {
   "cell_type": "code",
   "execution_count": 12,
   "id": "9b8ad5ab-84ef-4186-9995-66d79e70ddfb",
   "metadata": {},
   "outputs": [],
   "source": [
    "run = mth5_object.get_run(\"Fresno\", \"sp1_001\", \"USGS-GEOMAG\")"
   ]
  },
  {
   "cell_type": "code",
   "execution_count": 13,
   "id": "4ccd3498-3bfe-4bc4-80e7-118bf944b102",
   "metadata": {},
   "outputs": [
    {
     "data": {
      "image/png": "[encoded data removed]",
      "text/plain": [
       "<Figure size 432x288 with 2 Axes>"
      ]
     },
     "metadata": {
      "needs_background": "light"
     },
     "output_type": "display_data"
    }
   ],
   "source": [
    "run_ts = run.to_runts()\n",
    "run_ts.plot()"
   ]
  },
  {
   "cell_type": "markdown",
   "id": "5c8d9616-a639-4dd4-9e14-5e7d18b42a6c",
   "metadata": {},
   "source": [
    "## Close the MTH5 file\n",
    "\n",
    "**IMPORTANT**: Be sure to close the file, otherwise bad things can happen."
   ]
  },
  {
   "cell_type": "code",
   "execution_count": 14,
   "id": "b434b1b1-ab9d-4335-8514-8ffe051e602d",
   "metadata": {},
   "outputs": [
    {
     "name": "stderr",
     "output_type": "stream",
     "text": [
      "2023-03-23 15:48:55,374 [line 755] mth5.mth5.MTH5.close_mth5 - INFO: Flushing and closing C:\\Users\\jpeacock\\OneDrive - DOI\\Documents\\GitHub\\mth5\\docs\\examples\\notebooks\\usgs_geomag_frn_ott_xy.h5\n"
     ]
    }
   ],
   "source": [
    "mth5_object.close_mth5()"
   ]
  },
  {
   "cell_type": "code",
   "execution_count": null,
   "id": "afb109f1-220f-4d0b-aa59-22ef5a21ee9f",
   "metadata": {},
   "outputs": [],
   "source": []
  }
 ],
 "metadata": {
  "kernelspec": {
   "display_name": "Python 3 (ipykernel)",
   "language": "python",
   "name": "python3"
  },
  "language_info": {
   "codemirror_mode": {
    "name": "ipython",
    "version": 3
   },
   "file_extension": ".py",
   "mimetype": "text/x-python",
   "name": "python",
   "nbconvert_exporter": "python",
   "pygments_lexer": "ipython3",
   "version": "3.9.18"
  }
 },
 "nbformat": 4,
 "nbformat_minor": 5
}
